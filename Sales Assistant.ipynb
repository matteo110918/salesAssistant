{
 "cells": [
  {
   "metadata": {},
   "cell_type": "markdown",
   "source": [
    "<div style=\"border: 1px solid #ccc; padding: 10px; border-radius: 5px;\">\n",
    "    <table style=\"width: 100%;\">\n",
    "        <tr>\n",
    "            <td style=\"width: 10%; text-align: center; vertical-align: top;\">\n",
    "                <img src=\"images/robotic_sales_assistent.png\" alt=\"Robotic Sales Assistent\" width=\"200\">\n",
    "            </td>\n",
    "            <td style=\"width: 70%; vertical-align: top; padding-left: 15px;\">\n",
    "                <h3>Use Case: Sales Assistent</h3>\n",
    "                <p>\n",
    "                    Der Robotic Sales Assistent automatisiert Verkaufsprozesse und unterstützt \n",
    "                    Mitarbeiter bei der Kundenbetreuung. Typische Anwendungsfälle umfassen:\n",
    "                </p>\n",
    "                <p>\n",
    "                    Ziel ist es, die Effizienz im Verkauf zu steigern und personalisierte \n",
    "                    Kundenerlebnisse zu ermöglichen.\n",
    "                </p>\n",
    "            </td>\n",
    "        </tr>\n",
    "    </table>\n",
    "</div>\n",
    "\n"
   ],
   "id": "b9dede75d5ed8391"
  },
  {
   "metadata": {
    "ExecuteTime": {
     "end_time": "2024-12-02T09:27:24.223438Z",
     "start_time": "2024-12-02T09:27:20.266753Z"
    }
   },
   "cell_type": "code",
   "source": [
    "# imports\n",
    "\n",
    "import os\n",
    "import requests\n",
    "import json\n",
    "from typing import List\n",
    "from dotenv import load_dotenv\n",
    "from bs4 import BeautifulSoup\n",
    "from IPython.display import Markdown, display, update_display\n",
    "from openai import OpenAI"
   ],
   "id": "56ef8634c5c3ffa8",
   "outputs": [],
   "execution_count": 2
  },
  {
   "metadata": {
    "ExecuteTime": {
     "end_time": "2024-12-02T09:27:25.230231Z",
     "start_time": "2024-12-02T09:27:24.225465Z"
    }
   },
   "cell_type": "code",
   "source": [
    "# Initialize and constants\n",
    "\n",
    "load_dotenv()\n",
    "api_key = os.getenv('OPENAI_API_KEY')\n",
    "\n",
    "if api_key and api_key.startswith('sk-proj-') and len(api_key)>10:\n",
    "    print(\"API key looks good so far\")\n",
    "else:\n",
    "    print(\"There might be a problem with your API key? Please visit the troubleshooting notebook!\")\n",
    "    \n",
    "MODEL = 'gpt-4o-mini'\n",
    "openai = OpenAI()"
   ],
   "id": "5ee367c6fb4155e8",
   "outputs": [
    {
     "name": "stdout",
     "output_type": "stream",
     "text": [
      "API key looks good so far\n"
     ]
    }
   ],
   "execution_count": 3
  },
  {
   "metadata": {
    "ExecuteTime": {
     "end_time": "2024-12-02T09:27:25.243459Z",
     "start_time": "2024-12-02T09:27:25.234241Z"
    }
   },
   "cell_type": "code",
   "source": [
    "# A class to represent a Webpage\n",
    "\n",
    "class Website:\n",
    "    \"\"\"\n",
    "    A utility class to represent a Website that I have scraped, including links\n",
    "    \"\"\"\n",
    "\n",
    "    def __init__(self, url):\n",
    "        self.url = url\n",
    "        response = requests.get(url)\n",
    "        self.body = response.content\n",
    "        soup = BeautifulSoup(self.body, 'html.parser')\n",
    "        self.title = soup.title.string if soup.title else \"No title found\"\n",
    "        if soup.body:\n",
    "            for irrelevant in soup.body([\"script\", \"style\", \"img\", \"input\"]):\n",
    "                irrelevant.decompose()\n",
    "            self.text = soup.body.get_text(separator=\"\\n\", strip=True)\n",
    "        else:\n",
    "            self.text = \"\"\n",
    "        links = [link.get('href') for link in soup.find_all('a')]\n",
    "        self.links = [link for link in links if link]\n",
    "\n",
    "    def get_contents(self):\n",
    "        return f\"Webpage Title:\\n{self.title}\\nWebpage Contents:\\n{self.text}\\n\\n\""
   ],
   "id": "7d7717f9f29d23d1",
   "outputs": [],
   "execution_count": 4
  },
  {
   "metadata": {
    "ExecuteTime": {
     "end_time": "2024-12-02T09:27:25.464706Z",
     "start_time": "2024-12-02T09:27:25.245484Z"
    }
   },
   "cell_type": "code",
   "source": [
    "# Test class\n",
    "\n",
    "ed = Website(\"https://www.huggingface.com\")\n",
    "ed.links"
   ],
   "id": "b99f75645785f64",
   "outputs": [
    {
     "data": {
      "text/plain": [
       "['/',\n",
       " '/models',\n",
       " '/datasets',\n",
       " '/spaces',\n",
       " '/posts',\n",
       " '/docs',\n",
       " '/enterprise',\n",
       " '/pricing',\n",
       " '/login',\n",
       " '/join',\n",
       " '/blog/yagilb/lms-hf',\n",
       " '/Qwen/QwQ-32B-Preview',\n",
       " '/Djrango/Qwen2vl-Flux',\n",
       " '/AIDC-AI/Marco-o1',\n",
       " '/Lightricks/LTX-Video',\n",
       " '/OuteAI/OuteTTS-0.2-500M',\n",
       " '/models',\n",
       " '/spaces/PR-Puppets/PR-Puppet-Sora',\n",
       " '/spaces/Qwen/QwQ-32B-preview',\n",
       " '/spaces/akhaliq/anychat',\n",
       " '/spaces/huggingface-projects/ai-video-composer',\n",
       " '/spaces/multimodalart/logo-in-context',\n",
       " '/spaces',\n",
       " '/datasets/alpindale/two-million-bluesky-posts',\n",
       " '/datasets/HuggingFaceTB/smoltalk',\n",
       " '/datasets/O1-OPEN/OpenO1-SFT',\n",
       " '/datasets/fka/awesome-chatgpt-prompts',\n",
       " '/datasets/bluesky-community/one-million-bluesky-posts',\n",
       " '/datasets',\n",
       " '/join',\n",
       " '/pricing#endpoints',\n",
       " '/pricing#spaces',\n",
       " '/pricing',\n",
       " '/enterprise',\n",
       " '/enterprise',\n",
       " '/enterprise',\n",
       " '/enterprise',\n",
       " '/enterprise',\n",
       " '/enterprise',\n",
       " '/enterprise',\n",
       " '/allenai',\n",
       " '/facebook',\n",
       " '/amazon',\n",
       " '/google',\n",
       " '/Intel',\n",
       " '/microsoft',\n",
       " '/grammarly',\n",
       " '/Writer',\n",
       " '/docs/transformers',\n",
       " '/docs/diffusers',\n",
       " '/docs/safetensors',\n",
       " '/docs/huggingface_hub',\n",
       " '/docs/tokenizers',\n",
       " '/docs/peft',\n",
       " '/docs/transformers.js',\n",
       " '/docs/timm',\n",
       " '/docs/trl',\n",
       " '/docs/datasets',\n",
       " '/docs/text-generation-inference',\n",
       " '/docs/accelerate',\n",
       " '/models',\n",
       " '/datasets',\n",
       " '/spaces',\n",
       " '/tasks',\n",
       " 'https://ui.endpoints.huggingface.co',\n",
       " '/chat',\n",
       " '/huggingface',\n",
       " '/brand',\n",
       " '/terms-of-service',\n",
       " '/privacy',\n",
       " 'https://apply.workable.com/huggingface/',\n",
       " 'mailto:press@huggingface.co',\n",
       " '/learn',\n",
       " '/docs',\n",
       " '/blog',\n",
       " 'https://discuss.huggingface.co',\n",
       " 'https://status.huggingface.co/',\n",
       " 'https://github.com/huggingface',\n",
       " 'https://twitter.com/huggingface',\n",
       " 'https://www.linkedin.com/company/huggingface/',\n",
       " '/join/discord']"
      ]
     },
     "execution_count": 5,
     "metadata": {},
     "output_type": "execute_result"
    }
   ],
   "execution_count": 5
  },
  {
   "metadata": {},
   "cell_type": "markdown",
   "source": [
    "## First step: Have GPT-4o-mini figure out which links are relevant\n",
    "\n",
    "### Use a call to gpt-4o-mini to read the links on a webpage, and respond in structured JSON.  \n",
    "It should decide which links are relevant, and replace relative links such as \"/about\" with \"https://company.com/about\".  \n",
    "I will use \"one shot prompting\" in which we provide an example of how it should respond in the prompt."
   ],
   "id": "99552daa2ba2136e"
  },
  {
   "metadata": {
    "ExecuteTime": {
     "end_time": "2024-12-02T09:27:25.471043Z",
     "start_time": "2024-12-02T09:27:25.465727Z"
    }
   },
   "cell_type": "code",
   "source": [
    "# Create the system prompt\n",
    "\n",
    "link_system_prompt = \"You are provided with a list of links found on a webpage. \\\n",
    "You are able to decide which of the links would be most relevant to include in a brochure about the company, \\\n",
    "such as links to an About page, or a Company page, or Careers/Jobs pages.\\n\"\n",
    "link_system_prompt += \"You should respond in JSON as in this example:\"\n",
    "link_system_prompt += \"\"\"\n",
    "{\n",
    "    \"links\": [\n",
    "        {\"type\": \"about page\", \"url\": \"https://full.url/goes/here/about\"},\n",
    "        {\"type\": \"careers page\": \"url\": \"https://another.full.url/careers\"}\n",
    "    ]\n",
    "}\n",
    "\"\"\""
   ],
   "id": "a042ded72b165000",
   "outputs": [],
   "execution_count": 6
  },
  {
   "metadata": {
    "ExecuteTime": {
     "end_time": "2024-12-02T09:27:25.481655Z",
     "start_time": "2024-12-02T09:27:25.472068Z"
    }
   },
   "cell_type": "code",
   "source": [
    "# Create user prompt\n",
    "\n",
    "def get_links_user_prompt(website):\n",
    "    user_prompt = f\"Here is the list of links on the website of {website.url} - \"\n",
    "    user_prompt += \"please decide which of these are relevant web links for a brochure about the company, respond with the full https URL in JSON format. \\\n",
    "Do not include Terms of Service, Privacy, email links.\\n\"\n",
    "    user_prompt += \"Links (some might be relative links):\\n\"\n",
    "    user_prompt += \"\\n\".join(website.links)\n",
    "    return user_prompt"
   ],
   "id": "35ce9d43d1df8e1c",
   "outputs": [],
   "execution_count": 7
  },
  {
   "metadata": {
    "ExecuteTime": {
     "end_time": "2024-12-02T09:27:25.490926Z",
     "start_time": "2024-12-02T09:27:25.483677Z"
    }
   },
   "cell_type": "code",
   "source": [
    "# Ask LLM for most relevant links and return in Json\n",
    "\n",
    "def get_links(url):\n",
    "    website = Website(url)\n",
    "    response = openai.chat.completions.create(\n",
    "        model=MODEL,\n",
    "        messages=[\n",
    "            {\"role\": \"system\", \"content\": link_system_prompt},\n",
    "            {\"role\": \"user\", \"content\": get_links_user_prompt(website)}\n",
    "      ],\n",
    "        response_format={\"type\": \"json_object\"}\n",
    "    )\n",
    "    result = response.choices[0].message.content\n",
    "    return json.loads(result)"
   ],
   "id": "1db3093ec8f396c6",
   "outputs": [],
   "execution_count": 8
  },
  {
   "metadata": {},
   "cell_type": "markdown",
   "source": [
    "## Second step: make the brochure!\n",
    "\n",
    "Assemble all the details into another prompt to GPT4-o"
   ],
   "id": "f7743d21e3b80854"
  },
  {
   "metadata": {
    "ExecuteTime": {
     "end_time": "2024-12-02T09:27:25.499733Z",
     "start_time": "2024-12-02T09:27:25.492933Z"
    }
   },
   "cell_type": "code",
   "source": [
    "# Crawl information out of relevant links\n",
    "\n",
    "def get_all_details(url):\n",
    "    result = \"Landing page:\\n\"\n",
    "    result += Website(url).get_contents()\n",
    "    links = get_links(url)\n",
    "    print(\"Found links:\", links)\n",
    "    for link in links[\"links\"]:\n",
    "        result += f\"\\n\\n{link['type']}\\n\"\n",
    "        result += Website(link[\"url\"]).get_contents()\n",
    "    return result"
   ],
   "id": "e62d8945a059042b",
   "outputs": [],
   "execution_count": 9
  },
  {
   "metadata": {
    "ExecuteTime": {
     "end_time": "2024-12-02T09:27:25.510481Z",
     "start_time": "2024-12-02T09:27:25.501741Z"
    }
   },
   "cell_type": "code",
   "source": [
    "# Create system prompt\n",
    "\n",
    "system_prompt = \"You are an assistant that analyzes the contents of several relevant pages from a company website \\\n",
    "and creates a short brochure about the company for prospective customers, investors and recruits. Respond in markdown.\\\n",
    "Include details of company culture, customers and careers/jobs if you have the information.\""
   ],
   "id": "3440447b8416f491",
   "outputs": [],
   "execution_count": 10
  },
  {
   "metadata": {
    "ExecuteTime": {
     "end_time": "2024-12-02T09:27:25.520624Z",
     "start_time": "2024-12-02T09:27:25.512502Z"
    }
   },
   "cell_type": "code",
   "source": [
    "# Create user prompt\n",
    "\n",
    "def get_brochure_user_prompt(company_name, url):\n",
    "    user_prompt = f\"You are looking at a company called: {company_name}\\n\"\n",
    "    user_prompt += f\"Here are the contents of its landing page and other relevant pages; use this information to build a short brochure of the company in markdown.\\n\"\n",
    "    user_prompt += get_all_details(url)\n",
    "    user_prompt = user_prompt[:20_000] # Truncate if more than 20,000 characters\n",
    "    return user_prompt"
   ],
   "id": "7be111646acc3775",
   "outputs": [],
   "execution_count": 11
  },
  {
   "metadata": {
    "ExecuteTime": {
     "end_time": "2024-12-02T09:27:25.536423Z",
     "start_time": "2024-12-02T09:27:25.522648Z"
    }
   },
   "cell_type": "code",
   "source": [
    "# Create the brochure\n",
    "\n",
    "def create_brochure(company_name, url):\n",
    "    response = openai.chat.completions.create(\n",
    "        model=MODEL,\n",
    "        messages=[\n",
    "            {\"role\": \"system\", \"content\": system_prompt},\n",
    "            {\"role\": \"user\", \"content\": get_brochure_user_prompt(company_name, url)}\n",
    "          ],\n",
    "    )\n",
    "    result = response.choices[0].message.content\n",
    "    display(Markdown(result))"
   ],
   "id": "c8ebafa95515481a",
   "outputs": [],
   "execution_count": 12
  },
  {
   "metadata": {},
   "cell_type": "code",
   "outputs": [],
   "execution_count": null,
   "source": "create_brochure('<company_name>', '<url>')",
   "id": "303cb95f21f31a0c"
  }
 ],
 "metadata": {
  "kernelspec": {
   "display_name": "Python 3",
   "language": "python",
   "name": "python3"
  },
  "language_info": {
   "codemirror_mode": {
    "name": "ipython",
    "version": 2
   },
   "file_extension": ".py",
   "mimetype": "text/x-python",
   "name": "python",
   "nbconvert_exporter": "python",
   "pygments_lexer": "ipython2",
   "version": "2.7.6"
  }
 },
 "nbformat": 4,
 "nbformat_minor": 5
}
